{
 "cells": [
  {
   "cell_type": "code",
   "execution_count": 2,
   "metadata": {},
   "outputs": [],
   "source": [
    "import numpy as np\n",
    "import pandas as pd\n",
    "\n",
    "\n",
    "id_stopword_dict = pd.read_csv('/Users/imamghozali/Documents/Master/Semester1/RPL/Data/stopwordbahasa.csv', header=None)\n",
    "id_stopword_dict = id_stopword_dict.rename(columns={0: 'stopword'})\n",
    "\n",
    "# print(id_stopword_dict)\n",
    "data = pd.read_csv(\n",
    "    \"/Users/imamghozali/Documents/Master/Semester1/RPL/Data/re_dataset.csv\", error_bad_lines=False, encoding='latin-1')\n",
    "data1 = data.drop(['Abusive', 'HS_Individual', 'HS_Group', 'HS_Religion', 'HS_Race',\n",
    "                  'HS_Physical', 'HS_Gender', 'HS_Other', 'HS_Weak', 'HS_Moderate', 'HS_Strong'], axis=1)\n",
    "\n",
    "alay_dict = pd.read_csv('/Users/imamghozali/Documents/Master/Semester1/RPL/Data/new_kamusalay.csv', encoding='latin-1', header=None)\n",
    "alay_dict = alay_dict.rename(columns={0: 'original', \n",
    "                                      1: 'replacement'})\n",
    "# print(data1.values[0][0])"
   ]
  },
  {
   "cell_type": "code",
   "execution_count": 3,
   "metadata": {},
   "outputs": [
    {
     "name": "stderr",
     "output_type": "stream",
     "text": [
      "/Users/imamghozali/opt/anaconda3/envs/python36/lib/python3.6/site-packages/seaborn/_decorators.py:43: FutureWarning: Pass the following variable as a keyword arg: x. From version 0.12, the only valid positional argument will be `data`, and passing other arguments without an explicit keyword will result in an error or misinterpretation.\n",
      "  FutureWarning\n"
     ]
    },
    {
     "data": {
      "text/plain": [
       "<AxesSubplot:xlabel='HS', ylabel='count'>"
      ]
     },
     "execution_count": 3,
     "metadata": {},
     "output_type": "execute_result"
    },
    {
     "data": {
      "image/png": "[encoded data removed]",
      "text/plain": [
       "<Figure size 432x288 with 1 Axes>"
      ]
     },
     "metadata": {
      "needs_background": "light"
     },
     "output_type": "display_data"
    }
   ],
   "source": [
    "import seaborn as sns\n",
    "\n",
    "sns.countplot('HS',data=data1)\n"
   ]
  },
  {
   "cell_type": "code",
   "execution_count": 4,
   "metadata": {},
   "outputs": [
    {
     "name": "stdout",
     "output_type": "stream",
     "text": [
      "andi kerap transaksi rutin daring online andi belanja online praktis murah\n",
      "maksud nyata amin kriminalisasi ahok hati hati mulut\n"
     ]
    }
   ],
   "source": [
    "import re\n",
    "from Sastrawi.Stemmer.StemmerFactory import StemmerFactory\n",
    "factory = StemmerFactory()\n",
    "stemmer = factory.create_stemmer()\n",
    "from nltk.tokenize import word_tokenize \n",
    "import nltk\n",
    "# from keras.preprocessing.text import Tokenizer\n",
    "\n",
    "# nltk.download()\n",
    "\n",
    "def lowercase(text):\n",
    "    return text.lower()\n",
    "\n",
    "\n",
    "def remove_unnecessary_char(text):\n",
    "    # Remove every URL\n",
    "    text = re.sub(\n",
    "        '((www\\.[^\\s]+)|(https?://[^\\s]+)|(http?://[^\\s]+))', ' ', text)\n",
    "    text = re.sub('\\n', ' ', text)  # Remove every '\\n'\n",
    "    text = re.sub('\\r', ' ', text)  # Remove every '\\r'\n",
    "    text = re.sub('(?i)rt', ' ', text)  # Remove every retweet symbol\n",
    "    text = re.sub('@[^\\s]+[ \\t]', '', text)  # Remove every username\n",
    "    text = re.sub('(?i)user', '', text)  # Remove every username\n",
    "    text = re.sub('(?i)url', ' ', text)  # Remove every url\n",
    "    text = re.sub(r'\\\\x..', ' ', text)  # Remove every emoji\n",
    "    text = re.sub('  +', ' ', text)  # Remove extra spaces\n",
    "    # Remove characters repeating more than twice\n",
    "    text = re.sub(r'(\\w)\\1{2,}', r'\\1\\1', text)\n",
    "\n",
    "    return text\n",
    "\n",
    "\n",
    "def remove_nonaplhanumeric(text):\n",
    "    text = re.sub('[^0-9a-zA-Z]+', ' ', text)\n",
    "    return text\n",
    "\n",
    "\n",
    "alay_dict_map = dict(zip(alay_dict['original'], alay_dict['replacement']))\n",
    "\n",
    "\n",
    "def normalize_alay(text):\n",
    "    return ' '.join([alay_dict_map[word] if word in alay_dict_map else word for word in text.split(' ')])\n",
    "\n",
    "\n",
    "def remove_stopword(text):\n",
    "    text = ' '.join(\n",
    "        ['' if word in id_stopword_dict.stopword.values else word for word in text.split(' ')])\n",
    "    text = re.sub('  +', ' ', text)  # Remove extra spaces\n",
    "    text = text.strip()\n",
    "    return text\n",
    "\n",
    "\n",
    "def stemming(text):\n",
    "    return stemmer.stem(text)\n",
    "\n",
    "\n",
    "def preprocess(text):\n",
    "    text = lowercase(text)\n",
    "    text = remove_unnecessary_char(text)\n",
    "    text = remove_nonaplhanumeric(text)\n",
    "    text = normalize_alay(text)\n",
    "    text = remove_stopword(text)\n",
    "    text = stemming(text)\n",
    "    # text = nltk.tokenize.word_tokenize(text)\n",
    "    ordered_tokens = set()\n",
    "    result = []\n",
    "    # filter duplicate words\n",
    "    # for word in text:\n",
    "    #     if word not in ordered_tokens:\n",
    "    #         ordered_tokens.add(word)\n",
    "    #         result.append(word)\n",
    "    # text = result      \n",
    "    return text\n",
    "\n",
    "print(preprocess(\"@saidaqil Andi kerap melakukan transaksi rutin secara daring atau online. Menurut Andi belanja online lebih praktis & murah.\"))\n",
    "print(preprocess(\"@saidaqil apa maksud pernyataan. Anda? Apa anda mengaminkan kriminalisasi Ahok?? Hati2 jg dg mulutmu pak!\"))\n",
    "# data1 = data1.drop(['HS'], axis=1)\n",
    "# result = []\n",
    "# for item in data1.iloc[:, 0]:\n",
    "#     # for num in item:    \n",
    "#         # print(preprocess(item))\n",
    "#         result.append(preprocess(item))\n",
    "\n",
    "# print(result[0])\n",
    "data1['Tweet']=data1['Tweet'].apply(preprocess)"
   ]
  },
  {
   "cell_type": "code",
   "execution_count": 5,
   "metadata": {},
   "outputs": [
    {
     "data": {
      "text/html": [
       "<div>\n",
       "<style scoped>\n",
       "    .dataframe tbody tr th:only-of-type {\n",
       "        vertical-align: middle;\n",
       "    }\n",
       "\n",
       "    .dataframe tbody tr th {\n",
       "        vertical-align: top;\n",
       "    }\n",
       "\n",
       "    .dataframe thead th {\n",
       "        text-align: right;\n",
       "    }\n",
       "</style>\n",
       "<table border=\"1\" class=\"dataframe\">\n",
       "  <thead>\n",
       "    <tr style=\"text-align: right;\">\n",
       "      <th></th>\n",
       "      <th>Tweet</th>\n",
       "      <th>HS</th>\n",
       "    </tr>\n",
       "  </thead>\n",
       "  <tbody>\n",
       "    <tr>\n",
       "      <th>0</th>\n",
       "      <td>cowok usaha lacak perhati gue lantas remeh per...</td>\n",
       "      <td>1</td>\n",
       "    </tr>\n",
       "    <tr>\n",
       "      <th>1</th>\n",
       "      <td>telat tau edan sarap gue gaul cigax jifla cal ...</td>\n",
       "      <td>0</td>\n",
       "    </tr>\n",
       "    <tr>\n",
       "      <th>2</th>\n",
       "      <td>41 kadang pikir percaya tuhan jatuh kali kali ...</td>\n",
       "      <td>0</td>\n",
       "    </tr>\n",
       "    <tr>\n",
       "      <th>3</th>\n",
       "      <td>ku tau mata sipit</td>\n",
       "      <td>0</td>\n",
       "    </tr>\n",
       "    <tr>\n",
       "      <th>4</th>\n",
       "      <td>kaum cebong kafir dongok dungu haha</td>\n",
       "      <td>1</td>\n",
       "    </tr>\n",
       "  </tbody>\n",
       "</table>\n",
       "</div>"
      ],
      "text/plain": [
       "                                               Tweet  HS\n",
       "0  cowok usaha lacak perhati gue lantas remeh per...   1\n",
       "1  telat tau edan sarap gue gaul cigax jifla cal ...   0\n",
       "2  41 kadang pikir percaya tuhan jatuh kali kali ...   0\n",
       "3                                  ku tau mata sipit   0\n",
       "4                kaum cebong kafir dongok dungu haha   1"
      ]
     },
     "execution_count": 5,
     "metadata": {},
     "output_type": "execute_result"
    }
   ],
   "source": [
    "x=data1['Tweet']\n",
    "y=data1['HS']\n",
    "\n",
    "data1.head()"
   ]
  },
  {
   "cell_type": "code",
   "execution_count": 6,
   "metadata": {},
   "outputs": [
    {
     "name": "stdout",
     "output_type": "stream",
     "text": [
      "10535 10535\n",
      "2634 2634\n"
     ]
    }
   ],
   "source": [
    "from sklearn.model_selection import train_test_split\n",
    "\n",
    "x_train, x_test, y_train, y_test = train_test_split(x, y, random_state=42,test_size=0.2)\n",
    "print(len(x_train), len(y_train))\n",
    "print(len(x_test), len(y_test))"
   ]
  },
  {
   "cell_type": "code",
   "execution_count": 18,
   "metadata": {},
   "outputs": [],
   "source": [
    "from sklearn.feature_extraction.text import CountVectorizer\n",
    "\n",
    "count = CountVectorizer(ngram_range=(1,2))\n",
    "x_train_vectorizer=count.fit_transform(x_train)"
   ]
  },
  {
   "cell_type": "code",
   "execution_count": 19,
   "metadata": {},
   "outputs": [
    {
     "data": {
      "text/plain": [
       "array([[0, 0, 0, ..., 0, 0, 0],\n",
       "       [0, 0, 0, ..., 0, 0, 0],\n",
       "       [0, 0, 0, ..., 0, 0, 0],\n",
       "       ...,\n",
       "       [0, 0, 0, ..., 0, 0, 0],\n",
       "       [0, 0, 0, ..., 0, 0, 0],\n",
       "       [0, 0, 0, ..., 0, 0, 0]])"
      ]
     },
     "execution_count": 19,
     "metadata": {},
     "output_type": "execute_result"
    }
   ],
   "source": [
    "x_test_vectorizer=count.transform(x_test)\n",
    "x_train_vectorizer.toarray()"
   ]
  },
  {
   "cell_type": "code",
   "execution_count": 20,
   "metadata": {},
   "outputs": [],
   "source": [
    "from sklearn.feature_extraction.text import TfidfTransformer\n",
    "tfidf = TfidfTransformer()\n",
    "\n",
    "x_train_tfidf = tfidf.fit_transform(x_train_vectorizer)\n",
    "\n",
    "x_train_tfidf.toarray()\n",
    "x_test_tfidf = tfidf.transform(x_test_vectorizer)"
   ]
  },
  {
   "cell_type": "code",
   "execution_count": 21,
   "metadata": {},
   "outputs": [],
   "source": [
    "from sklearn.naive_bayes import MultinomialNB\n",
    "from sklearn.metrics import classification_report\n",
    "from sklearn.metrics import confusion_matrix"
   ]
  },
  {
   "cell_type": "code",
   "execution_count": 22,
   "metadata": {},
   "outputs": [
    {
     "name": "stdout",
     "output_type": "stream",
     "text": [
      "[[1295  221]\n",
      " [ 216  902]]\n",
      "              precision    recall  f1-score   support\n",
      "\n",
      "           0       0.86      0.85      0.86      1516\n",
      "           1       0.80      0.81      0.80      1118\n",
      "\n",
      "    accuracy                           0.83      2634\n",
      "   macro avg       0.83      0.83      0.83      2634\n",
      "weighted avg       0.83      0.83      0.83      2634\n",
      "\n"
     ]
    }
   ],
   "source": [
    "model_vectorizer= MultinomialNB().fit(x_train_vectorizer, y_train)\n",
    "prediction_vectorizer=model_vectorizer.predict(x_test_vectorizer)\n",
    "print(confusion_matrix(y_test,prediction_vectorizer))\n",
    "print (classification_report(y_test, prediction_vectorizer))"
   ]
  },
  {
   "cell_type": "code",
   "execution_count": 23,
   "metadata": {},
   "outputs": [
    {
     "name": "stdout",
     "output_type": "stream",
     "text": [
      "[[1415  101]\n",
      " [ 367  751]]\n",
      "              precision    recall  f1-score   support\n",
      "\n",
      "           0       0.79      0.93      0.86      1516\n",
      "           1       0.88      0.67      0.76      1118\n",
      "\n",
      "    accuracy                           0.82      2634\n",
      "   macro avg       0.84      0.80      0.81      2634\n",
      "weighted avg       0.83      0.82      0.82      2634\n",
      "\n"
     ]
    }
   ],
   "source": [
    "model_tfidf= MultinomialNB().fit(x_train_tfidf, y_train)\n",
    "prediction_tfidf=model_tfidf.predict(x_test_tfidf)\n",
    "print(confusion_matrix(y_test,prediction_tfidf))\n",
    "print (classification_report(y_test, prediction_tfidf))\n"
   ]
  },
  {
   "cell_type": "code",
   "execution_count": 24,
   "metadata": {},
   "outputs": [
    {
     "name": "stderr",
     "output_type": "stream",
     "text": [
      "Using TensorFlow backend.\n",
      "/Users/imamghozali/opt/anaconda3/envs/python36/lib/python3.6/site-packages/tensorflow/python/framework/dtypes.py:523: FutureWarning: Passing (type, 1) or '1type' as a synonym of type is deprecated; in a future version of numpy, it will be understood as (type, (1,)) / '(1,)type'.\n",
      "  _np_qint8 = np.dtype([(\"qint8\", np.int8, 1)])\n",
      "/Users/imamghozali/opt/anaconda3/envs/python36/lib/python3.6/site-packages/tensorflow/python/framework/dtypes.py:524: FutureWarning: Passing (type, 1) or '1type' as a synonym of type is deprecated; in a future version of numpy, it will be understood as (type, (1,)) / '(1,)type'.\n",
      "  _np_quint8 = np.dtype([(\"quint8\", np.uint8, 1)])\n",
      "/Users/imamghozali/opt/anaconda3/envs/python36/lib/python3.6/site-packages/tensorflow/python/framework/dtypes.py:525: FutureWarning: Passing (type, 1) or '1type' as a synonym of type is deprecated; in a future version of numpy, it will be understood as (type, (1,)) / '(1,)type'.\n",
      "  _np_qint16 = np.dtype([(\"qint16\", np.int16, 1)])\n",
      "/Users/imamghozali/opt/anaconda3/envs/python36/lib/python3.6/site-packages/tensorflow/python/framework/dtypes.py:526: FutureWarning: Passing (type, 1) or '1type' as a synonym of type is deprecated; in a future version of numpy, it will be understood as (type, (1,)) / '(1,)type'.\n",
      "  _np_quint16 = np.dtype([(\"quint16\", np.uint16, 1)])\n",
      "/Users/imamghozali/opt/anaconda3/envs/python36/lib/python3.6/site-packages/tensorflow/python/framework/dtypes.py:527: FutureWarning: Passing (type, 1) or '1type' as a synonym of type is deprecated; in a future version of numpy, it will be understood as (type, (1,)) / '(1,)type'.\n",
      "  _np_qint32 = np.dtype([(\"qint32\", np.int32, 1)])\n",
      "/Users/imamghozali/opt/anaconda3/envs/python36/lib/python3.6/site-packages/tensorflow/python/framework/dtypes.py:532: FutureWarning: Passing (type, 1) or '1type' as a synonym of type is deprecated; in a future version of numpy, it will be understood as (type, (1,)) / '(1,)type'.\n",
      "  np_resource = np.dtype([(\"resource\", np.ubyte, 1)])\n"
     ]
    }
   ],
   "source": [
    "\n",
    "from keras.models import Model\n",
    "from keras.layers import LSTM, Activation, Dense, Dropout, Input, Embedding,SpatialDropout1D\n",
    "from keras.optimizers import RMSprop\n",
    "from keras.preprocessing.text import Tokenizer\n",
    "from keras.preprocessing import sequence\n",
    "from keras.utils import to_categorical\n",
    "from keras.callbacks import EarlyStopping\n",
    "from keras.models import Sequential"
   ]
  },
  {
   "cell_type": "code",
   "execution_count": 59,
   "metadata": {},
   "outputs": [],
   "source": [
    "max_words = 4000\n",
    "max_len = 200\n",
    "tokenizer = Tokenizer(num_words=max_words)\n",
    "tokenizer.fit_on_texts(x_train)\n",
    "sequences = tokenizer.texts_to_sequences(x_train)\n",
    "sequences_matrix = sequence.pad_sequences(sequences,maxlen=max_len)"
   ]
  },
  {
   "cell_type": "code",
   "execution_count": 60,
   "metadata": {},
   "outputs": [
    {
     "name": "stdout",
     "output_type": "stream",
     "text": [
      "_________________________________________________________________\n",
      "Layer (type)                 Output Shape              Param #   \n",
      "=================================================================\n",
      "embedding_6 (Embedding)      (None, 200, 100)          400000    \n",
      "_________________________________________________________________\n",
      "spatial_dropout1d_6 (Spatial (None, 200, 100)          0         \n",
      "_________________________________________________________________\n",
      "lstm_6 (LSTM)                (None, 100)               80400     \n",
      "_________________________________________________________________\n",
      "dense_6 (Dense)              (None, 1)                 101       \n",
      "=================================================================\n",
      "Total params: 480,501\n",
      "Trainable params: 480,501\n",
      "Non-trainable params: 0\n",
      "_________________________________________________________________\n"
     ]
    }
   ],
   "source": [
    "model = Sequential()\n",
    "model.add(Embedding(max_words, 100, input_length=max_len))\n",
    "model.add(SpatialDropout1D(0.2))\n",
    "model.add(LSTM(100, dropout=0.2, recurrent_dropout=0.2))\n",
    "model.add(Dense(1, activation='sigmoid'))\n",
    "model.summary()\n",
    "model.compile(loss='binary_crossentropy',optimizer=RMSprop(),metrics=['accuracy'])"
   ]
  },
  {
   "cell_type": "code",
   "execution_count": 61,
   "metadata": {},
   "outputs": [],
   "source": [
    "from keras.callbacks import EarlyStopping,ModelCheckpoint\n",
    "\n",
    "stop = EarlyStopping(\n",
    "    monitor='val_acc', \n",
    "    mode='max',\n",
    "    patience=5\n",
    ")\n",
    "\n",
    "checkpoint= ModelCheckpoint(\n",
    "    filepath='./model',\n",
    "    save_weights_only=True,\n",
    "    monitor='val_acc',\n",
    "    mode='max',\n",
    "    save_best_only=True)"
   ]
  },
  {
   "cell_type": "code",
   "execution_count": 67,
   "metadata": {},
   "outputs": [
    {
     "name": "stdout",
     "output_type": "stream",
     "text": [
      "Train on 8428 samples, validate on 2107 samples\n",
      "Epoch 1/10\n",
      "8428/8428 [==============================] - 56s 7ms/step - loss: 0.2341 - acc: 0.9047 - val_loss: 0.4525 - val_acc: 0.8140\n",
      "Epoch 2/10\n",
      "8428/8428 [==============================] - 58s 7ms/step - loss: 0.2232 - acc: 0.9095 - val_loss: 0.4562 - val_acc: 0.8130\n",
      "Epoch 3/10\n",
      "8428/8428 [==============================] - 59s 7ms/step - loss: 0.2146 - acc: 0.9152 - val_loss: 0.4540 - val_acc: 0.8087\n",
      "Epoch 4/10\n",
      "8428/8428 [==============================] - 62s 7ms/step - loss: 0.2094 - acc: 0.9175 - val_loss: 0.4731 - val_acc: 0.8154\n",
      "Epoch 5/10\n",
      "8428/8428 [==============================] - 59s 7ms/step - loss: 0.1948 - acc: 0.9218 - val_loss: 0.4940 - val_acc: 0.8116\n",
      "Epoch 6/10\n",
      "8428/8428 [==============================] - 58s 7ms/step - loss: 0.1904 - acc: 0.9251 - val_loss: 0.5242 - val_acc: 0.8125\n",
      "Epoch 7/10\n",
      "8428/8428 [==============================] - 62s 7ms/step - loss: 0.1848 - acc: 0.9276 - val_loss: 0.5919 - val_acc: 0.8011\n",
      "Epoch 8/10\n",
      "8428/8428 [==============================] - 71s 8ms/step - loss: 0.1840 - acc: 0.9270 - val_loss: 0.5554 - val_acc: 0.8078\n",
      "Epoch 9/10\n",
      "8428/8428 [==============================] - 62s 7ms/step - loss: 0.1726 - acc: 0.9331 - val_loss: 0.5514 - val_acc: 0.8059\n"
     ]
    }
   ],
   "source": [
    "history=model.fit(sequences_matrix,y_train,batch_size=1024,epochs=10,\n",
    "          validation_split=0.2,callbacks=[stop,checkpoint])"
   ]
  },
  {
   "cell_type": "code",
   "execution_count": 68,
   "metadata": {},
   "outputs": [
    {
     "data": {
      "image/png": "[encoded data removed]",
      "text/plain": [
       "<Figure size 720x720 with 1 Axes>"
      ]
     },
     "metadata": {
      "needs_background": "light"
     },
     "output_type": "display_data"
    },
    {
     "data": {
      "image/png": "[encoded data removed]",
      "text/plain": [
       "<Figure size 720x720 with 1 Axes>"
      ]
     },
     "metadata": {
      "needs_background": "light"
     },
     "output_type": "display_data"
    }
   ],
   "source": [
    "import matplotlib.pyplot as plt\n",
    "\n",
    "plt.figure(figsize=(10, 10))\n",
    "plt.plot(history.history['loss'])\n",
    "plt.plot(history.history['val_loss'])\n",
    "plt.title('Loss')\n",
    "plt.legend(['train', 'val'], loc='upper left')\n",
    "plt.show()\n",
    "\n",
    "plt.figure(figsize=(10, 10))\n",
    "plt.plot(history.history['acc'])\n",
    "plt.plot(history.history['val_acc'])\n",
    "plt.title('Accuracy')\n",
    "plt.legend(['train', 'val'], loc='upper left')\n",
    "plt.show()"
   ]
  },
  {
   "cell_type": "code",
   "execution_count": 69,
   "metadata": {},
   "outputs": [],
   "source": [
    "test_sequences = tokenizer.texts_to_sequences(x_test)\n",
    "test_sequences_matrix = sequence.pad_sequences(test_sequences,maxlen=max_len)\n"
   ]
  },
  {
   "cell_type": "code",
   "execution_count": 70,
   "metadata": {},
   "outputs": [
    {
     "name": "stdout",
     "output_type": "stream",
     "text": [
      "2634/2634 [==============================] - 22s 8ms/step\n"
     ]
    }
   ],
   "source": [
    "accr = model.evaluate(test_sequences_matrix,y_test)\n"
   ]
  },
  {
   "cell_type": "code",
   "execution_count": 71,
   "metadata": {},
   "outputs": [
    {
     "name": "stdout",
     "output_type": "stream",
     "text": [
      "[[1293  223]\n",
      " [ 259  859]]\n",
      "              precision    recall  f1-score   support\n",
      "\n",
      "           0       0.83      0.85      0.84      1516\n",
      "           1       0.79      0.77      0.78      1118\n",
      "\n",
      "    accuracy                           0.82      2634\n",
      "   macro avg       0.81      0.81      0.81      2634\n",
      "weighted avg       0.82      0.82      0.82      2634\n",
      "\n"
     ]
    }
   ],
   "source": [
    "from sklearn.metrics import confusion_matrix\n",
    "from sklearn.metrics import classification_report\n",
    "\n",
    "lstm_prediction=model.predict(test_sequences_matrix)\n",
    "res=[]\n",
    "for prediction in lstm_prediction:\n",
    "    if prediction[0]<0.5:\n",
    "        res.append(0)\n",
    "    else:\n",
    "        res.append(1)\n",
    "print(confusion_matrix(y_test,res))\n",
    "print (classification_report(y_test, res))\n"
   ]
  },
  {
   "cell_type": "code",
   "execution_count": 34,
   "metadata": {},
   "outputs": [],
   "source": [
    "import pickle\n",
    "\n",
    "with open('tokenizer.pickle', 'wb') as handle:\n",
    "    pickle.dump(tokenizer, handle, protocol=pickle.HIGHEST_PROTOCOL)"
   ]
  },
  {
   "cell_type": "code",
   "execution_count": 35,
   "metadata": {},
   "outputs": [],
   "source": [
    "model.save(\"hate_model.h5\")"
   ]
  },
  {
   "cell_type": "code",
   "execution_count": 36,
   "metadata": {},
   "outputs": [],
   "source": [
    "import keras\n",
    "load_model=keras.models.load_model(\"./hate_model.h5\")\n",
    "with open('tokenizer.pickle', 'rb') as handle:\n",
    "    load_tokenizer = pickle.load(handle)"
   ]
  },
  {
   "cell_type": "code",
   "execution_count": 37,
   "metadata": {},
   "outputs": [
    {
     "name": "stdout",
     "output_type": "stream",
     "text": [
      "['cowok usaha lacak perhati gue lantas remeh perhati gue kasih khusus basic cowok bego']\n",
      "[[293, 141, 3866, 628, 4, 2507, 3243, 628, 4, 72, 145, 293, 208]]\n",
      "pred [[0.00095039]]\n",
      "no hate\n"
     ]
    }
   ],
   "source": [
    "test = \"- disaat semua cowok berusaha melacak perhatian gue. loe lantas remehkan perhatian yg gue kasih khusus ke elo. basic elo cowok bego ! ! !'\"\n",
    "\n",
    "test=[preprocess(test)]\n",
    "print(test)\n",
    "seq = load_tokenizer.texts_to_sequences(test)\n",
    "padded = sequence.pad_sequences(seq, maxlen=200)\n",
    "print(seq)\n",
    "pred = load_model.predict(padded)\n",
    "print(\"pred\", pred)\n",
    "if pred<0.5:\n",
    "    print(\"no hate\")\n",
    "else:\n",
    "    print(\"hate and abusive\")"
   ]
  },
  {
   "cell_type": "code",
   "execution_count": 45,
   "metadata": {},
   "outputs": [],
   "source": [
    "data2=data1\n"
   ]
  },
  {
   "cell_type": "code",
   "execution_count": 46,
   "metadata": {},
   "outputs": [],
   "source": [
    "data2 = data2['Tweet'].apply(preprocess)"
   ]
  },
  {
   "cell_type": "code",
   "execution_count": 47,
   "metadata": {},
   "outputs": [
    {
     "data": {
      "text/plain": [
       "0    cowok usaha lacak perhati gue lantas remeh per...\n",
       "1    telat tau edan sarap gue gaul cigax jifla cal ...\n",
       "2    41 kadang pikir percaya tuhan jatuh kali kali ...\n",
       "3                                    ku tau mata sipit\n",
       "4                   kaum cebong kafir dungu dungu haha\n",
       "Name: Tweet, dtype: object"
      ]
     },
     "execution_count": 47,
     "metadata": {},
     "output_type": "execute_result"
    }
   ],
   "source": [
    "data2.head(5)"
   ]
  },
  {
   "cell_type": "code",
   "execution_count": 48,
   "metadata": {},
   "outputs": [
    {
     "name": "stdout",
     "output_type": "stream",
     "text": [
      "Found 12422 unique tokens.\n"
     ]
    }
   ],
   "source": [
    "MAX_NB_WORDS = 50000\n",
    "MAX_SEQUENCE_LENGTH = 250\n",
    "EMBEDDING_DIM = 100\n",
    "tokenizer2 = Tokenizer(num_words=MAX_NB_WORDS, filters='!\"#$%&()*+,-./:;<=>?@[\\]^_`{|}~', lower=True)\n",
    "tokenizer2.fit_on_texts(data2.values)\n",
    "word_index = tokenizer2.word_index\n",
    "print('Found %s unique tokens.' % len(word_index))"
   ]
  },
  {
   "cell_type": "code",
   "execution_count": 49,
   "metadata": {},
   "outputs": [
    {
     "name": "stdout",
     "output_type": "stream",
     "text": [
      "Shape of data tensor: (13169, 250)\n"
     ]
    }
   ],
   "source": [
    "X = tokenizer2.texts_to_sequences(data2.values)\n",
    "X = sequence.pad_sequences(X, maxlen=MAX_SEQUENCE_LENGTH)\n",
    "print('Shape of data tensor:', X.shape)"
   ]
  },
  {
   "cell_type": "code",
   "execution_count": 50,
   "metadata": {},
   "outputs": [],
   "source": [
    "Y=data1['HS']"
   ]
  },
  {
   "cell_type": "code",
   "execution_count": 51,
   "metadata": {},
   "outputs": [
    {
     "name": "stdout",
     "output_type": "stream",
     "text": [
      "(10535, 250) (10535,)\n",
      "(2634, 250) (2634,)\n"
     ]
    }
   ],
   "source": [
    "X_train, X_test, Y_train, Y_test = train_test_split(X,Y, test_size = 0.20, random_state = 42)\n",
    "print(X_train.shape,Y_train.shape)\n",
    "print(X_test.shape,Y_test.shape)"
   ]
  },
  {
   "cell_type": "code",
   "execution_count": 52,
   "metadata": {},
   "outputs": [
    {
     "name": "stdout",
     "output_type": "stream",
     "text": [
      "Train on 8428 samples, validate on 2107 samples\n",
      "Epoch 1/10\n",
      "8428/8428 [==============================] - 66s 8ms/step - loss: 0.6753 - acc: 0.5819 - val_loss: 0.6504 - val_acc: 0.5928\n",
      "Epoch 2/10\n"
     ]
    },
    {
     "name": "stderr",
     "output_type": "stream",
     "text": [
      "/Users/imamghozali/opt/anaconda3/envs/python36/lib/python3.6/site-packages/keras/callbacks.py:535: RuntimeWarning: Early stopping conditioned on metric `val_accuracy` which is not available. Available metrics are: val_loss,val_acc,loss,acc\n",
      "  (self.monitor, ','.join(list(logs.keys()))), RuntimeWarning\n",
      "/Users/imamghozali/opt/anaconda3/envs/python36/lib/python3.6/site-packages/keras/callbacks.py:432: RuntimeWarning: Can save best model only with val_accuracy available, skipping.\n",
      "  'skipping.' % (self.monitor), RuntimeWarning)\n"
     ]
    },
    {
     "name": "stdout",
     "output_type": "stream",
     "text": [
      "8428/8428 [==============================] - 73s 9ms/step - loss: 0.6100 - acc: 0.6954 - val_loss: 0.5825 - val_acc: 0.7632\n",
      "Epoch 3/10\n",
      "8428/8428 [==============================] - 74s 9ms/step - loss: 0.5162 - acc: 0.8231 - val_loss: 0.5086 - val_acc: 0.7803\n",
      "Epoch 4/10\n",
      "8428/8428 [==============================] - 69s 8ms/step - loss: 0.4216 - acc: 0.8367 - val_loss: 0.4593 - val_acc: 0.8016\n",
      "Epoch 5/10\n",
      "8428/8428 [==============================] - 70s 8ms/step - loss: 0.3590 - acc: 0.8626 - val_loss: 0.4255 - val_acc: 0.8092\n",
      "Epoch 6/10\n",
      "8428/8428 [==============================] - 74s 9ms/step - loss: 0.3133 - acc: 0.8755 - val_loss: 0.4166 - val_acc: 0.8102\n",
      "Epoch 7/10\n",
      "8428/8428 [==============================] - 79s 9ms/step - loss: 0.2947 - acc: 0.8809 - val_loss: 0.4147 - val_acc: 0.8178\n",
      "Epoch 8/10\n",
      "8428/8428 [==============================] - 87s 10ms/step - loss: 0.2534 - acc: 0.8994 - val_loss: 0.4480 - val_acc: 0.7879\n",
      "Epoch 9/10\n",
      "8428/8428 [==============================] - 87s 10ms/step - loss: 0.2383 - acc: 0.9038 - val_loss: 0.4324 - val_acc: 0.8045\n",
      "Epoch 10/10\n",
      "8428/8428 [==============================] - 91s 11ms/step - loss: 0.2156 - acc: 0.9158 - val_loss: 0.4223 - val_acc: 0.8230\n"
     ]
    }
   ],
   "source": [
    "model2 = Sequential()\n",
    "model2.add(Embedding(MAX_NB_WORDS, EMBEDDING_DIM, input_length=X.shape[1]))\n",
    "model2.add(SpatialDropout1D(0.2))\n",
    "model2.add(LSTM(100, dropout=0.2, recurrent_dropout=0.2))\n",
    "model2.add(Dense(1, activation='sigmoid'))\n",
    "model2.compile(loss='binary_crossentropy',optimizer=RMSprop(),metrics=['accuracy'])\n",
    "\n",
    "epochs = 10\n",
    "batch_size = 1024\n",
    "\n",
    "history2 = model2.fit(X_train, Y_train, epochs=epochs,batch_size=batch_size,validation_split=0.2,callbacks=[stop,checkpoint])"
   ]
  },
  {
   "cell_type": "code",
   "execution_count": 53,
   "metadata": {},
   "outputs": [
    {
     "name": "stdout",
     "output_type": "stream",
     "text": [
      "2634/2634 [==============================] - 30s 11ms/step\n"
     ]
    }
   ],
   "source": [
    "accr = model2.evaluate(X_test,Y_test)\n"
   ]
  },
  {
   "cell_type": "code",
   "execution_count": 54,
   "metadata": {},
   "outputs": [
    {
     "name": "stdout",
     "output_type": "stream",
     "text": [
      "[[0.9762091 ]\n",
      " [0.00631766]\n",
      " [0.03874571]\n",
      " [0.49160764]\n",
      " [0.4598291 ]]\n"
     ]
    }
   ],
   "source": [
    "lstm_prediction2=model2.predict(X_test)\n",
    "print(lstm_prediction2[0:5])\n",
    "res2=[]\n",
    "for prediction in lstm_prediction2:\n",
    "    if prediction[0]<0.45:\n",
    "        res2.append(0)\n",
    "    else:\n",
    "        res2.append(1)"
   ]
  },
  {
   "cell_type": "code",
   "execution_count": 59,
   "metadata": {},
   "outputs": [
    {
     "name": "stdout",
     "output_type": "stream",
     "text": [
      "[[1241  275]\n",
      " [ 198  920]]\n",
      "              precision    recall  f1-score   support\n",
      "\n",
      "           0       0.86      0.82      0.84      1516\n",
      "           1       0.77      0.82      0.80      1118\n",
      "\n",
      "    accuracy                           0.82      2634\n",
      "   macro avg       0.82      0.82      0.82      2634\n",
      "weighted avg       0.82      0.82      0.82      2634\n",
      "\n"
     ]
    }
   ],
   "source": [
    "print(confusion_matrix(Y_test,res2))\n",
    "print (classification_report(Y_test, res2))\n",
    "\n"
   ]
  },
  {
   "cell_type": "code",
   "execution_count": 58,
   "metadata": {},
   "outputs": [
    {
     "name": "stdout",
     "output_type": "stream",
     "text": [
      "['cowok usaha lacak perhati gue lantas remeh perhati gue kasih khusus basic cowok bego']\n",
      "[[304, 151, 3433, 582, 4, 1951, 2494, 582, 4, 74, 128, 4971, 304, 194]]\n",
      "pred [[0.10678127]]\n",
      "no hate\n"
     ]
    }
   ],
   "source": [
    "test = \"- disaat semua cowok berusaha melacak perhatian gue. loe lantas remehkan perhatian yg gue kasih khusus ke elo. basic elo cowok bego ! ! !'\"\n",
    "\n",
    "test=[preprocess(test)]\n",
    "print(test)\n",
    "seq = tokenizer2.texts_to_sequences(test)\n",
    "padded = sequence.pad_sequences(seq, maxlen=250)\n",
    "print(seq)\n",
    "pred = model2.predict(padded)\n",
    "print(\"pred\", pred)\n",
    "if pred<0.45:\n",
    "    print(\"no hate\")\n",
    "else:\n",
    "    print(\"hate and abusive\")"
   ]
  }
 ],
 "metadata": {
  "interpreter": {
   "hash": "57423a2cbd759146a5d45469178755f1e56bde8436b7f8340d939d1237d2ea3a"
  },
  "kernelspec": {
   "display_name": "Python 3.6.13 64-bit ('python36': conda)",
   "name": "python3"
  },
  "language_info": {
   "codemirror_mode": {
    "name": "ipython",
    "version": 3
   },
   "file_extension": ".py",
   "mimetype": "text/x-python",
   "name": "python",
   "nbconvert_exporter": "python",
   "pygments_lexer": "ipython3",
   "version": "3.6.13"
  }
 },
 "nbformat": 4,
 "nbformat_minor": 5
}
