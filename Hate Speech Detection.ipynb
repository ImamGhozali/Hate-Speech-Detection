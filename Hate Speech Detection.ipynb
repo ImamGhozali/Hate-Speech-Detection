{
 "cells": [
  {
   "cell_type": "code",
   "execution_count": 40,
   "metadata": {},
   "outputs": [],
   "source": [
    "import numpy as np\n",
    "import pandas as pd\n",
    "\n",
    "\n",
    "id_stopword_dict = pd.read_csv('/Users/imamghozali/Documents/Master/Semester1/RPL/Data/stopwordbahasa.csv', header=None)\n",
    "id_stopword_dict = id_stopword_dict.rename(columns={0: 'stopword'})\n",
    "\n",
    "# print(id_stopword_dict)\n",
    "data = pd.read_csv(\n",
    "    \"/Users/imamghozali/Documents/Master/Semester1/RPL/Data/re_dataset.csv\", error_bad_lines=False, encoding='latin-1')\n",
    "data1 = data.drop(['Abusive', 'HS_Individual', 'HS_Group', 'HS_Religion', 'HS_Race',\n",
    "                  'HS_Physical', 'HS_Gender', 'HS_Other', 'HS_Weak', 'HS_Moderate', 'HS_Strong'], axis=1)\n",
    "\n",
    "alay_dict = pd.read_csv('/Users/imamghozali/Documents/Master/Semester1/RPL/Data/new_kamusalay.csv', encoding='latin-1', header=None)\n",
    "alay_dict = alay_dict.rename(columns={0: 'original', \n",
    "                                      1: 'replacement'})\n",
    "# print(data1.values[0][0])"
   ]
  },
  {
   "cell_type": "code",
   "execution_count": 41,
   "metadata": {},
   "outputs": [
    {
     "name": "stderr",
     "output_type": "stream",
     "text": [
      "/Users/imamghozali/opt/anaconda3/envs/python36/lib/python3.6/site-packages/seaborn/_decorators.py:43: FutureWarning: Pass the following variable as a keyword arg: x. From version 0.12, the only valid positional argument will be `data`, and passing other arguments without an explicit keyword will result in an error or misinterpretation.\n",
      "  FutureWarning\n"
     ]
    },
    {
     "data": {
      "text/plain": [
       "<AxesSubplot:xlabel='HS', ylabel='count'>"
      ]
     },
     "execution_count": 41,
     "metadata": {},
     "output_type": "execute_result"
    },
    {
     "data": {
      "image/png": "[encoded data removed]",
      "text/plain": [
       "<Figure size 432x288 with 1 Axes>"
      ]
     },
     "metadata": {
      "needs_background": "light"
     },
     "output_type": "display_data"
    }
   ],
   "source": [
    "import seaborn as sns\n",
    "\n",
    "sns.countplot('HS',data=data1)\n"
   ]
  },
  {
   "cell_type": "code",
   "execution_count": 42,
   "metadata": {},
   "outputs": [
    {
     "name": "stdout",
     "output_type": "stream",
     "text": [
      "['andi', 'kerap', 'transaksi', 'rutin', 'daring', 'online', 'andi', 'belanja', 'online', 'praktis', 'murah']\n",
      "['maksud', 'nyata', 'amin', 'kriminalisasi', 'ahok', 'hati', 'hati', 'mulut']\n"
     ]
    }
   ],
   "source": [
    "import re\n",
    "from Sastrawi.Stemmer.StemmerFactory import StemmerFactory\n",
    "factory = StemmerFactory()\n",
    "stemmer = factory.create_stemmer()\n",
    "from nltk.tokenize import word_tokenize \n",
    "import nltk\n",
    "# from keras.preprocessing.text import Tokenizer\n",
    "\n",
    "# nltk.download()\n",
    "\n",
    "def lowercase(text):\n",
    "    return text.lower()\n",
    "\n",
    "\n",
    "def remove_unnecessary_char(text):\n",
    "    # Remove every URL\n",
    "    text = re.sub(\n",
    "        '((www\\.[^\\s]+)|(https?://[^\\s]+)|(http?://[^\\s]+))', ' ', text)\n",
    "    text = re.sub('\\n', ' ', text)  # Remove every '\\n'\n",
    "    text = re.sub('\\r', ' ', text)  # Remove every '\\r'\n",
    "    text = re.sub('(?i)rt', ' ', text)  # Remove every retweet symbol\n",
    "    text = re.sub('@[^\\s]+[ \\t]', '', text)  # Remove every username\n",
    "    text = re.sub('(?i)user', '', text)  # Remove every username\n",
    "    text = re.sub('(?i)url', ' ', text)  # Remove every url\n",
    "    text = re.sub(r'\\\\x..', ' ', text)  # Remove every emoji\n",
    "    text = re.sub('  +', ' ', text)  # Remove extra spaces\n",
    "    # Remove characters repeating more than twice\n",
    "    text = re.sub(r'(\\w)\\1{2,}', r'\\1\\1', text)\n",
    "\n",
    "    return text\n",
    "\n",
    "\n",
    "def remove_nonaplhanumeric(text):\n",
    "    text = re.sub('[^0-9a-zA-Z]+', ' ', text)\n",
    "    return text\n",
    "\n",
    "\n",
    "alay_dict_map = dict(zip(alay_dict['original'], alay_dict['replacement']))\n",
    "\n",
    "\n",
    "def normalize_alay(text):\n",
    "    return ' '.join([alay_dict_map[word] if word in alay_dict_map else word for word in text.split(' ')])\n",
    "\n",
    "\n",
    "def remove_stopword(text):\n",
    "    text = ' '.join(\n",
    "        ['' if word in id_stopword_dict.stopword.values else word for word in text.split(' ')])\n",
    "    text = re.sub('  +', ' ', text)  # Remove extra spaces\n",
    "    text = text.strip()\n",
    "    return text\n",
    "\n",
    "\n",
    "def stemming(text):\n",
    "    return stemmer.stem(text)\n",
    "\n",
    "\n",
    "def preprocess(text):\n",
    "    text = lowercase(text)\n",
    "    text = remove_unnecessary_char(text)\n",
    "    text = remove_nonaplhanumeric(text)\n",
    "    text = normalize_alay(text)\n",
    "    text = remove_stopword(text)\n",
    "    text = stemming(text)\n",
    "    text = nltk.tokenize.word_tokenize(text)\n",
    "    ordered_tokens = set()\n",
    "    result = []\n",
    "    # filter duplicate words\n",
    "    # for word in text:\n",
    "    #     if word not in ordered_tokens:\n",
    "    #         ordered_tokens.add(word)\n",
    "    #         result.append(word)\n",
    "    # text = result      \n",
    "    return text\n",
    "\n",
    "print(preprocess(\"@saidaqil Andi kerap melakukan transaksi rutin secara daring atau online. Menurut Andi belanja online lebih praktis & murah.\"))\n",
    "print(preprocess(\"@saidaqil apa maksud pernyataan. Anda? Apa anda mengaminkan kriminalisasi Ahok?? Hati2 jg dg mulutmu pak!\"))\n",
    "# data1 = data1.drop(['HS'], axis=1)\n",
    "# result = []\n",
    "# for item in data1.iloc[:, 0]:\n",
    "#     # for num in item:    \n",
    "#         # print(preprocess(item))\n",
    "#         result.append(preprocess(item))\n",
    "\n",
    "# print(result[0])"
   ]
  },
  {
   "cell_type": "code",
   "execution_count": 43,
   "metadata": {},
   "outputs": [],
   "source": [
    "x=data1['Tweet']\n",
    "y=data1['HS']"
   ]
  },
  {
   "cell_type": "code",
   "execution_count": 44,
   "metadata": {},
   "outputs": [
    {
     "name": "stdout",
     "output_type": "stream",
     "text": [
      "10535 10535\n",
      "2634 2634\n"
     ]
    }
   ],
   "source": [
    "from sklearn.model_selection import train_test_split\n",
    "\n",
    "x_train, x_test, y_train, y_test = train_test_split(x, y, random_state=42,test_size=0.2)\n",
    "print(len(x_train), len(y_train))\n",
    "print(len(x_test), len(y_test))"
   ]
  },
  {
   "cell_type": "code",
   "execution_count": 45,
   "metadata": {},
   "outputs": [],
   "source": [
    "import string\n",
    "\n",
    "# Create an iterator object that returns words properly formatted for Word2Vec training\n",
    "class TweetIterator:\n",
    "    def __init__(self, dataset):\n",
    "        self.dataset = dataset\n",
    "\n",
    "        # The text contains a stupid special character, hence the + '–'\n",
    "        self.translator = str.maketrans('', '', string.punctuation + '–')\n",
    "\n",
    "    def __iter__(self):\n",
    "        for tweet in self.dataset:\n",
    "            # Make all characters lower-case\n",
    "            tweet = tweet.lower()\n",
    "            sentence= preprocess(tweet)\n",
    "            words = [w for w in sentence if w != '']\n",
    "            # for sentence in tweet.split('.')[:-1]:\n",
    "            #     # Clean string of all punctuation\n",
    "            #     # sentence = sentence.translate(self.translator)\n",
    "            #     sentence= preprocess(sentence)\n",
    "            #     words = [w for w in sentence]\n",
    "\n",
    "            yield words\n",
    "\n",
    "sentences = TweetIterator(x_train)\n",
    "# print(list(sentences))\n"
   ]
  },
  {
   "cell_type": "code",
   "execution_count": 232,
   "metadata": {},
   "outputs": [
    {
     "name": "stdout",
     "output_type": "stream",
     "text": [
      "Vocabulary Size: 3130 - Embedding Dim: 100\n"
     ]
    }
   ],
   "source": [
    "import gensim\n",
    "\n",
    "w2v_model = gensim.models.Word2Vec(sentences,sg=0,vector_size=100, window=5, min_count=5)\n",
    "\n",
    "# Retrieve the weights from the model. This is used for initializing the weights\n",
    "# in a Keras Embedding layer later\n",
    "w2v_weights = w2v_model.wv.vectors\n",
    "vocab_size, embedding_size = w2v_weights.shape\n",
    "\n",
    "print(\"Vocabulary Size: {} - Embedding Dim: {}\".format(vocab_size, embedding_size))\n",
    "\n"
   ]
  },
  {
   "cell_type": "code",
   "execution_count": 233,
   "metadata": {},
   "outputs": [
    {
     "name": "stdout",
     "output_type": "stream",
     "text": [
      "[('cewek', 0.9993128776550293), ('kontol', 0.9991692304611206), ('makan', 0.999065637588501)]\n"
     ]
    }
   ],
   "source": [
    "print(w2v_model.wv.most_similar('cowok', topn=3))\n",
    "\n",
    "def word2token(word):\n",
    "    try:\n",
    "        return w2v_model.wv.key_to_index[word]\n",
    "    # If word is not in index return 0. I realize this means that this\n",
    "    # is the same as the word of index 0 (i.e. most frequent word), but 0s\n",
    "    # will be padded later anyway by the embedding layer (which also\n",
    "    # seems dirty but I couldn't find a better solution right now)\n",
    "    except KeyError:\n",
    "        return 0\n",
    "def token2word(token):\n",
    "    return w2v_model.wv.index2word[token]"
   ]
  },
  {
   "cell_type": "code",
   "execution_count": 234,
   "metadata": {},
   "outputs": [
    {
     "data": {
      "image/png": "[encoded data removed]",
      "text/plain": [
       "<Figure size 1080x576 with 1 Axes>"
      ]
     },
     "metadata": {
      "needs_background": "light"
     },
     "output_type": "display_data"
    }
   ],
   "source": [
    "import matplotlib.pyplot as plt\n",
    "\n",
    "categories, ccount = np.unique(y_train, return_counts=True)\n",
    "\n",
    "# Using a figsize this big seems dirty. It's the only way I figured to make\n",
    "# the x labels not overlap. I suck at plotting, sorry\n",
    "plt.figure(figsize=(15, 8))\n",
    "plt.title(\"Dataset Category Distribution\")\n",
    "plt.bar(categories, ccount, align='center')\n",
    "plt.show()"
   ]
  },
  {
   "cell_type": "code",
   "execution_count": 235,
   "metadata": {},
   "outputs": [
    {
     "name": "stdout",
     "output_type": "stream",
     "text": [
      "(10535, 200)\n",
      "(10535,)\n"
     ]
    }
   ],
   "source": [
    "# Import everything that will be used\n",
    "from keras.models import Sequential\n",
    "from keras.layers import *\n",
    "from keras.preprocessing.sequence import pad_sequences\n",
    "import string\n",
    "# Create an iterator that formats data from the dataset proper for\n",
    "# LSTM training\n",
    "\n",
    "# Sequences will be padded or truncated to this length\n",
    "MAX_SEQUENCE_LENGTH = 200\n",
    "\n",
    "# Samples of categories with less than this number of samples will be ignored\n",
    "DROP_THRESHOLD = 0\n",
    "\n",
    "class SequenceIterator:\n",
    "    def __init__(self, dataset_x,dataset_y, drop_threshold, seq_length):\n",
    "        self.dataset_x = dataset_x\n",
    "        self.dataset_y = dataset_y\n",
    "        self.translator = str.maketrans('', '', string.punctuation + '–')\n",
    "        self.categories, self.ccount = np.unique(dataset_y, return_counts=True)\n",
    "        \n",
    "        self.seq_length = seq_length\n",
    "        \n",
    "        # Samples of categories with less than this number of samples will be ignored\n",
    "        self.drop_categos = []\n",
    "        for cat, count in zip(self.categories, self.ccount):\n",
    "            if count < drop_threshold:\n",
    "                self.drop_categos.append(cat)\n",
    "        \n",
    "        # Remaining categories\n",
    "        self.categories = np.setdiff1d(self.categories, self.drop_categos)\n",
    "        \n",
    "    def __iter__(self):\n",
    "        for tweet, cat in zip(self.dataset_x, self.dataset_y):\n",
    "            if cat in self.drop_categos:\n",
    "                continue\n",
    "            \n",
    "            # Make all characters lower-case\n",
    "            tweet = tweet.lower()\n",
    "            \n",
    "            # Clean string of all punctuation\n",
    "            # tweet = tweet.translate(self.translator)\n",
    "            tweet= preprocess(tweet)\n",
    "\n",
    "\n",
    "            words = np.array([word2token(w) for w in tweet[:self.seq_length] if w != ''])\n",
    "                                \n",
    "            yield (words, cat)\n",
    "\n",
    "sequences = SequenceIterator(x_train,y_train, DROP_THRESHOLD, MAX_SEQUENCE_LENGTH)\n",
    "\n",
    "# Used for generating the labels in the set\n",
    "cat_dict = {k: v for k, v in zip(sequences.categories, range(len(sequences.categories)))}\n",
    "\n",
    "set_x = []\n",
    "set_y = []\n",
    "for w, c in sequences:\n",
    "    set_x.append(w)\n",
    "    set_y.append(cat_dict[c])\n",
    "    \n",
    "# Padding sequences with 0.\n",
    "set_x = pad_sequences(set_x, maxlen=MAX_SEQUENCE_LENGTH, padding='pre', value=0)\n",
    "set_y = np.array(set_y)\n",
    "\n",
    "print(set_x.shape)\n",
    "print(set_y.shape)"
   ]
  },
  {
   "cell_type": "code",
   "execution_count": 178,
   "metadata": {},
   "outputs": [
    {
     "name": "stdout",
     "output_type": "stream",
     "text": [
      "_________________________________________________________________\n",
      "Layer (type)                 Output Shape              Param #   \n",
      "=================================================================\n",
      "embedding_23 (Embedding)     (None, 200, 100)          313000    \n",
      "_________________________________________________________________\n",
      "spatial_dropout1d_23 (Spatia (None, 200, 100)          0         \n",
      "_________________________________________________________________\n",
      "lstm_23 (LSTM)               (None, 100)               80400     \n",
      "_________________________________________________________________\n",
      "dense_23 (Dense)             (None, 1)                 101       \n",
      "=================================================================\n",
      "Total params: 393,501\n",
      "Trainable params: 393,501\n",
      "Non-trainable params: 0\n",
      "_________________________________________________________________\n"
     ]
    }
   ],
   "source": [
    "from keras.optimizers import RMSprop\n",
    "\n",
    "# model = Sequential()\n",
    "\n",
    "# # Keras Embedding layer with Word2Vec weights initialization\n",
    "# model.add(Embedding(input_dim=vocab_size,\n",
    "#                     output_dim=embedding_size,\n",
    "#                     weights=[w2v_weights],\n",
    "#                     input_length=MAX_SEQUENCE_LENGTH,\n",
    "#                     mask_zero=True,\n",
    "#                     trainable=False))\n",
    "\n",
    "# model.add(LSTM(100))\n",
    "# model.add(Dense(n_categories, activation='softmax'))\n",
    "\n",
    "# model.compile(optimizer='adam', loss='sparse_categorical_crossentropy', metrics=['accuracy'])\n",
    "\n",
    "# history = model.fit(train_x, train_y, epochs=5, batch_size=64,\n",
    "#                     validation_data=(val_x, val_y), verbose=1)\n",
    "\n",
    "model = Sequential()\n",
    "# model.add(Embedding(vocab_size, 100, input_length=MAX_SEQUENCE_LENGTH))\n",
    "model.add(Embedding(input_dim=vocab_size,\n",
    "                    output_dim=embedding_size, weights=[w2v_weights], input_length=MAX_SEQUENCE_LENGTH))\n",
    "model.add(SpatialDropout1D(0.2))\n",
    "model.add(LSTM(100,dropout=0.2, recurrent_dropout=0.2))\n",
    "model.add(Dense(1, activation='sigmoid'))\n",
    "model.summary()\n",
    "model.compile(loss='binary_crossentropy',optimizer=RMSprop(),metrics=['accuracy'])"
   ]
  },
  {
   "cell_type": "code",
   "execution_count": 179,
   "metadata": {},
   "outputs": [],
   "source": [
    "from keras.callbacks import EarlyStopping,ModelCheckpoint\n",
    "\n",
    "stop = EarlyStopping(\n",
    "    monitor='val_acc', \n",
    "    mode='max',\n",
    "    patience=5\n",
    ")\n",
    "\n",
    "checkpoint= ModelCheckpoint(\n",
    "    filepath='./',\n",
    "    save_weights_only=True,\n",
    "    monitor='val_acc',\n",
    "    mode='max',\n",
    "    save_best_only=True)"
   ]
  },
  {
   "cell_type": "code",
   "execution_count": 190,
   "metadata": {},
   "outputs": [
    {
     "name": "stdout",
     "output_type": "stream",
     "text": [
      "Train on 8428 samples, validate on 2107 samples\n",
      "Epoch 1/10\n",
      "8428/8428 [==============================] - 53s 6ms/step - loss: 0.2464 - acc: 0.8951 - val_loss: 0.4528 - val_acc: 0.8211\n",
      "Epoch 2/10\n"
     ]
    },
    {
     "name": "stderr",
     "output_type": "stream",
     "text": [
      "/Users/imamghozali/opt/anaconda3/envs/python36/lib/python3.6/site-packages/keras/callbacks.py:535: RuntimeWarning: Early stopping conditioned on metric `val_accuracy` which is not available. Available metrics are: val_loss,val_acc,loss,acc\n",
      "  (self.monitor, ','.join(list(logs.keys()))), RuntimeWarning\n",
      "/Users/imamghozali/opt/anaconda3/envs/python36/lib/python3.6/site-packages/keras/callbacks.py:432: RuntimeWarning: Can save best model only with val_accuracy available, skipping.\n",
      "  'skipping.' % (self.monitor), RuntimeWarning)\n"
     ]
    },
    {
     "name": "stdout",
     "output_type": "stream",
     "text": [
      "8428/8428 [==============================] - 58s 7ms/step - loss: 0.2372 - acc: 0.9022 - val_loss: 0.4478 - val_acc: 0.8135\n",
      "Epoch 3/10\n",
      "8428/8428 [==============================] - 58s 7ms/step - loss: 0.2345 - acc: 0.9023 - val_loss: 0.4609 - val_acc: 0.8196\n",
      "Epoch 4/10\n",
      "8428/8428 [==============================] - 59s 7ms/step - loss: 0.2285 - acc: 0.9057 - val_loss: 0.4548 - val_acc: 0.8192\n",
      "Epoch 5/10\n",
      "8428/8428 [==============================] - 62s 7ms/step - loss: 0.2169 - acc: 0.9091 - val_loss: 0.4779 - val_acc: 0.8173\n",
      "Epoch 6/10\n",
      "8428/8428 [==============================] - 65s 8ms/step - loss: 0.2197 - acc: 0.9078 - val_loss: 0.4874 - val_acc: 0.8154\n",
      "Epoch 7/10\n",
      "8428/8428 [==============================] - 64s 8ms/step - loss: 0.2164 - acc: 0.9090 - val_loss: 0.4950 - val_acc: 0.8163\n",
      "Epoch 8/10\n",
      "8428/8428 [==============================] - 67s 8ms/step - loss: 0.2114 - acc: 0.9114 - val_loss: 0.4928 - val_acc: 0.8173\n",
      "Epoch 9/10\n",
      "8428/8428 [==============================] - 60s 7ms/step - loss: 0.2053 - acc: 0.9122 - val_loss: 0.4977 - val_acc: 0.8130\n",
      "Epoch 10/10\n",
      "8428/8428 [==============================] - 65s 8ms/step - loss: 0.2048 - acc: 0.9158 - val_loss: 0.5454 - val_acc: 0.8130\n"
     ]
    }
   ],
   "source": [
    "history=model.fit(set_x,set_y,batch_size=1024,epochs=10,\n",
    "          validation_split=0.2,callbacks=[stop,checkpoint])"
   ]
  },
  {
   "cell_type": "code",
   "execution_count": 191,
   "metadata": {},
   "outputs": [
    {
     "data": {
      "image/png": "[encoded data removed]",
      "text/plain": [
       "<Figure size 720x720 with 1 Axes>"
      ]
     },
     "metadata": {
      "needs_background": "light"
     },
     "output_type": "display_data"
    },
    {
     "data": {
      "image/png": "[encoded data removed]",
      "text/plain": [
       "<Figure size 720x720 with 1 Axes>"
      ]
     },
     "metadata": {
      "needs_background": "light"
     },
     "output_type": "display_data"
    }
   ],
   "source": [
    "plt.figure(figsize=(10, 10))\n",
    "plt.plot(history.history['loss'])\n",
    "plt.plot(history.history['val_loss'])\n",
    "plt.title('Loss')\n",
    "plt.legend(['train', 'val'], loc='upper left')\n",
    "plt.show()\n",
    "\n",
    "plt.figure(figsize=(10, 10))\n",
    "plt.plot(history.history['acc'])\n",
    "plt.plot(history.history['val_acc'])\n",
    "plt.title('Accuracy')\n",
    "plt.legend(['train', 'val'], loc='upper left')\n",
    "plt.show()"
   ]
  },
  {
   "cell_type": "code",
   "execution_count": 236,
   "metadata": {},
   "outputs": [],
   "source": [
    "# print(y_test)\n",
    "sequences = SequenceIterator(x_test,y_test, DROP_THRESHOLD, MAX_SEQUENCE_LENGTH)\n",
    "\n",
    "# Used for generating the labels in the set\n",
    "cat_dict = {k: v for k, v in zip(sequences.categories, range(len(sequences.categories)))}\n",
    "# print(cat_dict)\n",
    "\n",
    "set_x_test = []\n",
    "set_y_test = []\n",
    "for w, c in sequences:\n",
    "    set_x_test.append(w)\n",
    "    set_y_test.append(cat_dict[c])\n",
    "    \n",
    "# Padding sequences with 0.\n",
    "set_x_test = pad_sequences(set_x_test, maxlen=MAX_SEQUENCE_LENGTH, padding='pre', value=0)\n",
    "set_y_test = np.array(set_y_test)\n",
    "# print(set_y_test)"
   ]
  },
  {
   "cell_type": "code",
   "execution_count": 193,
   "metadata": {},
   "outputs": [
    {
     "name": "stdout",
     "output_type": "stream",
     "text": [
      "2634/2634 [==============================] - 23s 9ms/step\n"
     ]
    }
   ],
   "source": [
    "from keras.preprocessing import sequence\n",
    "from keras.preprocessing.text import Tokenizer\n",
    "MAX_SEQUENCE_LENGTH = 200\n",
    "\n",
    "# tokenizer = Tokenizer(num_words=MAX_SEQUENCE_LENGTH)\n",
    "# tokenizer.fit_on_texts(set_x_test)\n",
    "# test_sequences = tokenizer.texts_to_sequences(set_x_test)\n",
    "test_sequences_matrix = sequence.pad_sequences(set_x_test,maxlen=MAX_SEQUENCE_LENGTH)\n",
    "\n",
    "accr = model.evaluate(test_sequences_matrix,y_test)"
   ]
  },
  {
   "cell_type": "code",
   "execution_count": 194,
   "metadata": {},
   "outputs": [
    {
     "name": "stdout",
     "output_type": "stream",
     "text": [
      "[[1374  142]\n",
      " [ 351  767]]\n",
      "              precision    recall  f1-score   support\n",
      "\n",
      "           0       0.80      0.91      0.85      1516\n",
      "           1       0.84      0.69      0.76      1118\n",
      "\n",
      "    accuracy                           0.81      2634\n",
      "   macro avg       0.82      0.80      0.80      2634\n",
      "weighted avg       0.82      0.81      0.81      2634\n",
      "\n"
     ]
    }
   ],
   "source": [
    "from sklearn.metrics import confusion_matrix\n",
    "from sklearn.metrics import classification_report\n",
    "\n",
    "lstm_prediction=model.predict(test_sequences_matrix)\n",
    "res=[]\n",
    "for prediction in lstm_prediction:\n",
    "    if prediction[0]<0.5:\n",
    "        res.append(0)\n",
    "    else:\n",
    "        res.append(1)\n",
    "print(confusion_matrix(set_y_test,res))\n",
    "print (classification_report(set_y_test, res))\n"
   ]
  },
  {
   "cell_type": "code",
   "execution_count": 237,
   "metadata": {},
   "outputs": [
    {
     "name": "stdout",
     "output_type": "stream",
     "text": [
      "_________________________________________________________________\n",
      "Layer (type)                 Output Shape              Param #   \n",
      "=================================================================\n",
      "embedding_26 (Embedding)     (None, 200, 100)          313000    \n",
      "_________________________________________________________________\n",
      "spatial_dropout1d_26 (Spatia (None, 200, 100)          0         \n",
      "_________________________________________________________________\n",
      "bidirectional_4 (Bidirection (None, 200)               160800    \n",
      "_________________________________________________________________\n",
      "dense_26 (Dense)             (None, 1)                 201       \n",
      "=================================================================\n",
      "Total params: 474,001\n",
      "Trainable params: 474,001\n",
      "Non-trainable params: 0\n",
      "_________________________________________________________________\n"
     ]
    }
   ],
   "source": [
    "from keras.optimizers import RMSprop\n",
    "\n",
    "model2 = Sequential()\n",
    "model2.add(Embedding(input_dim=vocab_size,\n",
    "                    output_dim=embedding_size, weights=[w2v_weights], input_length=MAX_SEQUENCE_LENGTH))\n",
    "model2.add(SpatialDropout1D(0.2))\n",
    "model2.add(Bidirectional(LSTM(100,dropout=0.2, recurrent_dropout=0.2)))\n",
    "model2.add(Dense(1, activation='sigmoid'))\n",
    "model2.summary()\n",
    "model2.compile(loss='binary_crossentropy',optimizer=RMSprop(),metrics=['accuracy'])\n"
   ]
  },
  {
   "cell_type": "code",
   "execution_count": 258,
   "metadata": {},
   "outputs": [
    {
     "name": "stdout",
     "output_type": "stream",
     "text": [
      "Train on 8428 samples, validate on 2107 samples\n",
      "Epoch 1/10\n",
      "8428/8428 [==============================] - 115s 14ms/step - loss: 0.1729 - acc: 0.9321 - val_loss: 0.5995 - val_acc: 0.7940\n",
      "Epoch 2/10\n"
     ]
    },
    {
     "name": "stderr",
     "output_type": "stream",
     "text": [
      "/Users/imamghozali/opt/anaconda3/envs/python36/lib/python3.6/site-packages/keras/callbacks.py:535: RuntimeWarning: Early stopping conditioned on metric `val_accuracy` which is not available. Available metrics are: val_loss,val_acc,loss,acc\n",
      "  (self.monitor, ','.join(list(logs.keys()))), RuntimeWarning\n",
      "/Users/imamghozali/opt/anaconda3/envs/python36/lib/python3.6/site-packages/keras/callbacks.py:432: RuntimeWarning: Can save best model only with val_accuracy available, skipping.\n",
      "  'skipping.' % (self.monitor), RuntimeWarning)\n"
     ]
    },
    {
     "name": "stdout",
     "output_type": "stream",
     "text": [
      "8428/8428 [==============================] - 127s 15ms/step - loss: 0.1764 - acc: 0.9294 - val_loss: 0.5951 - val_acc: 0.8125\n",
      "Epoch 3/10\n",
      "8428/8428 [==============================] - 111s 13ms/step - loss: 0.1705 - acc: 0.9317 - val_loss: 0.5645 - val_acc: 0.8106\n",
      "Epoch 4/10\n",
      "8428/8428 [==============================] - 127s 15ms/step - loss: 0.1665 - acc: 0.9311 - val_loss: 0.5605 - val_acc: 0.8026\n",
      "Epoch 5/10\n",
      "8428/8428 [==============================] - 136s 16ms/step - loss: 0.1613 - acc: 0.9353 - val_loss: 0.6461 - val_acc: 0.8002\n",
      "Epoch 6/10\n",
      "8428/8428 [==============================] - 143s 17ms/step - loss: 0.1629 - acc: 0.9336 - val_loss: 0.6338 - val_acc: 0.8111\n",
      "Epoch 7/10\n",
      "8428/8428 [==============================] - 138s 16ms/step - loss: 0.1612 - acc: 0.9332 - val_loss: 0.6492 - val_acc: 0.8097\n",
      "Epoch 8/10\n",
      "8428/8428 [==============================] - 143s 17ms/step - loss: 0.1512 - acc: 0.9397 - val_loss: 0.6554 - val_acc: 0.8097\n",
      "Epoch 9/10\n",
      "8428/8428 [==============================] - 143s 17ms/step - loss: 0.1635 - acc: 0.9333 - val_loss: 0.6455 - val_acc: 0.8087\n",
      "Epoch 10/10\n",
      "8428/8428 [==============================] - 135s 16ms/step - loss: 0.1465 - acc: 0.9438 - val_loss: 0.6639 - val_acc: 0.8102\n"
     ]
    }
   ],
   "source": [
    "history=model2.fit(set_x,set_y,batch_size=1024,epochs=10,\n",
    "          validation_split=0.2,callbacks=[stop,checkpoint])"
   ]
  },
  {
   "cell_type": "code",
   "execution_count": 259,
   "metadata": {},
   "outputs": [
    {
     "data": {
      "image/png": "[encoded data removed]",
      "text/plain": [
       "<Figure size 720x720 with 1 Axes>"
      ]
     },
     "metadata": {
      "needs_background": "light"
     },
     "output_type": "display_data"
    },
    {
     "data": {
      "image/png": "[encoded data removed]",
      "text/plain": [
       "<Figure size 720x720 with 1 Axes>"
      ]
     },
     "metadata": {
      "needs_background": "light"
     },
     "output_type": "display_data"
    }
   ],
   "source": [
    "plt.figure(figsize=(10, 10))\n",
    "plt.plot(history.history['loss'])\n",
    "plt.plot(history.history['val_loss'])\n",
    "plt.title('Loss')\n",
    "plt.legend(['train', 'val'], loc='upper left')\n",
    "plt.show()\n",
    "\n",
    "plt.figure(figsize=(10, 10))\n",
    "plt.plot(history.history['acc'])\n",
    "plt.plot(history.history['val_acc'])\n",
    "plt.title('Accuracy')\n",
    "plt.legend(['train', 'val'], loc='upper left')\n",
    "plt.show()"
   ]
  },
  {
   "cell_type": "code",
   "execution_count": 260,
   "metadata": {},
   "outputs": [
    {
     "name": "stdout",
     "output_type": "stream",
     "text": [
      "2634/2634 [==============================] - 44s 17ms/step\n"
     ]
    }
   ],
   "source": [
    "accr = model2.evaluate(test_sequences_matrix,y_test)"
   ]
  },
  {
   "cell_type": "code",
   "execution_count": 261,
   "metadata": {},
   "outputs": [
    {
     "name": "stdout",
     "output_type": "stream",
     "text": [
      "[[1336  180]\n",
      " [ 314  804]]\n",
      "              precision    recall  f1-score   support\n",
      "\n",
      "           0       0.81      0.88      0.84      1516\n",
      "           1       0.82      0.72      0.76      1118\n",
      "\n",
      "    accuracy                           0.81      2634\n",
      "   macro avg       0.81      0.80      0.80      2634\n",
      "weighted avg       0.81      0.81      0.81      2634\n",
      "\n"
     ]
    }
   ],
   "source": [
    "lstm_prediction=model2.predict(test_sequences_matrix)\n",
    "res=[]\n",
    "for prediction in lstm_prediction:\n",
    "    if prediction[0]<0.5:\n",
    "        res.append(0)\n",
    "    else:\n",
    "        res.append(1)\n",
    "print(confusion_matrix(set_y_test,res))\n",
    "print (classification_report(set_y_test, res))"
   ]
  }
 ],
 "metadata": {
  "interpreter": {
   "hash": "57423a2cbd759146a5d45469178755f1e56bde8436b7f8340d939d1237d2ea3a"
  },
  "kernelspec": {
   "display_name": "Python 3.6.13 64-bit ('python36': conda)",
   "name": "python3"
  },
  "language_info": {
   "codemirror_mode": {
    "name": "ipython",
    "version": 3
   },
   "file_extension": ".py",
   "mimetype": "text/x-python",
   "name": "python",
   "nbconvert_exporter": "python",
   "pygments_lexer": "ipython3",
   "version": "3.6.13"
  }
 },
 "nbformat": 4,
 "nbformat_minor": 5
}
